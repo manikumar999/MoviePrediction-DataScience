{
 "cells": [
  {
   "cell_type": "code",
   "execution_count": 1,
   "metadata": {},
   "outputs": [],
   "source": [
    "import pandas as pd\n",
    "import numpy as np\n",
    "pd.set_option('display.max_columns' , 200)\n",
    "pd.set_option('display.max_rows' , 200)"
   ]
  },
  {
   "cell_type": "code",
   "execution_count": 2,
   "metadata": {},
   "outputs": [],
   "source": [
    "data=pd.read_excel(\"2018-2020-latest.xlsx\")"
   ]
  },
  {
   "cell_type": "code",
   "execution_count": 3,
   "metadata": {},
   "outputs": [
    {
     "data": {
      "text/plain": [
       "Index(['s.no', 'movie_name', 'result', 'director', 'writer', 'first_hero',\n",
       "       'second_hero', 'first_heroien', 'second_heroien', 'multi_starer',\n",
       "       'music', 'back_ground', 'cinematographer', 'editor', 'audio', 'songs',\n",
       "       'genre', 'production_no1', 'production_no2', 'production_no3',\n",
       "       'combined_production', 'distributed_by', 'month', 'year', 'run_time',\n",
       "       'art_director', 'fight_master_one', 'fight_master_two',\n",
       "       'fight_master_three', 'poster', 'budget'],\n",
       "      dtype='object')"
      ]
     },
     "execution_count": 3,
     "metadata": {},
     "output_type": "execute_result"
    }
   ],
   "source": [
    "data.columns"
   ]
  },
  {
   "cell_type": "markdown",
   "metadata": {},
   "source": [
    "# EDITOR"
   ]
  },
  {
   "cell_type": "code",
   "execution_count": 4,
   "metadata": {},
   "outputs": [],
   "source": [
    "columns = ['editor']\n",
    "for col in columns:   \n",
    "    data.loc[data[col].str.contains('new'),col]='New'"
   ]
  },
  {
   "cell_type": "code",
   "execution_count": 5,
   "metadata": {},
   "outputs": [],
   "source": [
    "editorLevels = {'level-1' :[ 'kotagiri garu','sreekar prasad','gowtham raju', 'anthony'],\n",
    "            'level-2' :[ 'navin nooli','praveen k.l','thammiraju'],\n",
    "    'level-3' :[ 'karthika srinivas','chota.k.prasad','prawin pudi'],\n",
    "    'level-4' :['marthand.k.venkatesh','praveen antony','pradeep.e.raghav'],\n",
    "    'level-5' :[ 'prasanna g.k','arram rama krishna','richard kevin','madhu','raymond rerrick crasta'],\n",
    "    'level-6'  :['junaid siddique','garry bh','ravi teja girijala','satish surya','shashank mali'],\n",
    "    'level-7' : ['sreejith sarang','gowtham nerusu','shravan katikaneni','s.r shekar','suresh arumugam'],\n",
    "    'level-8' : ['sp raja sethupathi','m.r varma','amar reddy','s.b uddhav','nageswara reddy bonthala'],\n",
    "    'level-9' :['dharmendra kakarla','john abraham','nandamuri hari','anwar ali','sathya g'],\n",
    "    'level-10' :['ravi manala','j.p','k.m prakash','s.s sunkara','krishna reddy'],\n",
    "    'level-11': ['renjith touchriver','b mahendranath','shiva.y.prasad','anil kumar bonthu'],\n",
    "    'new':['New'],\n",
    "    'more than one(experience)':['more than one(experience)'],\n",
    "    'more than one':['more than one']}\n"
   ]
  },
  {
   "cell_type": "code",
   "execution_count": 6,
   "metadata": {},
   "outputs": [],
   "source": [
    "editors = data['editor'].copy()\n",
    "editorlist = []\n",
    "for editor in editors:\n",
    "    for lvl in editorLevels:\n",
    "        if editor in editorLevels[lvl]:\n",
    "            editorlist.append(lvl)\n",
    "            "
   ]
  },
  {
   "cell_type": "code",
   "execution_count": 7,
   "metadata": {},
   "outputs": [],
   "source": [
    " data['editor'] = editorlist"
   ]
  },
  {
   "cell_type": "code",
   "execution_count": 8,
   "metadata": {},
   "outputs": [
    {
     "data": {
      "text/plain": [
       "array(['level-1', 'level-2', 'level-6', 'level-8', 'level-7',\n",
       "       'more than one', 'level-3', 'level-10', 'level-4', 'new',\n",
       "       'level-5', 'level-9', 'more than one(experience)', 'level-11'],\n",
       "      dtype=object)"
      ]
     },
     "execution_count": 8,
     "metadata": {},
     "output_type": "execute_result"
    }
   ],
   "source": [
    "data['editor'].unique()"
   ]
  },
  {
   "cell_type": "markdown",
   "metadata": {},
   "source": [
    "# production houses"
   ]
  },
  {
   "cell_type": "code",
   "execution_count": 9,
   "metadata": {},
   "outputs": [],
   "source": [
    "columns = ['production_no1']\n",
    "for col in columns:   \n",
    "    data.loc[data[col].str.contains('new'),col]='New'"
   ]
  },
  {
   "cell_type": "code",
   "execution_count": 10,
   "metadata": {},
   "outputs": [],
   "source": [
    "productionlevel1={'level-1':['sri venkateswara creations','geetha arts','dvv entertainment','konidela production company'],\n",
    "'level-2':['mythri movie makers','suresh productions','uv creations','v creations','reliance entertainment'],\n",
    "'level-3':['haarika and hassine creations','annapurna studios','vyjayanthi movies','t-series','studio green'],\n",
    "'level-4':['vaaraahi chalana chitram','14 reels','sithara entertainments','rockline entertainment pvt ltd','viacom18 motion pictures'],\n",
    "'level-5':['sri venkateswara cine chitra','pvp','first frame entertainments','aditya music','eros international'],\n",
    "'level-6':['pawan kalyan creative works','nbk films','puri connects','puri jagannadh touring talkies','g mahesh babu entertainment pvt ltd'],\n",
    "'level-7':['creative commercials','ck entertainments','ak entertainments','y not studios'],\n",
    "'level-8':['shine screens','wall poster cinema','big ben cinemas','swapna movies','ga2 pictures'],\n",
    "'level-9':[\"people's media factory\",'sri sathya sai arts','abishek pictures','sri lakshmi narasimha productions'],\n",
    "'level-10':['ira creations','swadham entertainment','dharmapatha creations','shresht movies','manyam productions'],\n",
    "'level-11':['blue planet entertainment llp','sri lakshmi venkateswara cinemas','anandi art creations','srt entertainments'],\n",
    "'level-12':['rama lakshmi cine creations','bhavya creations','flying frogs','sri devi movies'],\n",
    "'level-13':['indira productions','madhura entertainment','kona film corporation','north star entertainment','aran media works','guru films'],\n",
    "'level-14':['suresh kondeti presents','oak entertainments','sree lakshmi prasanna pictures','east coast production','maruthi talkies','silly monks studios'],\n",
    "'level-15':['sri tirumala tirupathi venkateswara films','lucky media','70mm entertainments','mvv cinema','r company production','suraksh entertainment'],\n",
    "'level-16':['a studio','ariel studios','vamsadhara creations','sampath nandi team works','crowd funded movie','manchu entertainments'],\n",
    "'new':['New'],\n",
    "'no one':['no one']}"
   ]
  },
  {
   "cell_type": "code",
   "execution_count": 11,
   "metadata": {},
   "outputs": [],
   "source": [
    "productions1 = data['production_no1'].copy()\n",
    "productionlist = []\n",
    "for production_no1 in productions1:\n",
    "    for lvl in productionlevel1:\n",
    "        if production_no1 in productionlevel1[lvl]:\n",
    "            productionlist.append(lvl)"
   ]
  },
  {
   "cell_type": "code",
   "execution_count": 12,
   "metadata": {},
   "outputs": [],
   "source": [
    "data[\"production_no1\"]=productionlist"
   ]
  },
  {
   "cell_type": "code",
   "execution_count": 13,
   "metadata": {},
   "outputs": [
    {
     "data": {
      "text/plain": [
       "18"
      ]
     },
     "execution_count": 13,
     "metadata": {},
     "output_type": "execute_result"
    }
   ],
   "source": [
    "data[\"production_no1\"].nunique()"
   ]
  },
  {
   "cell_type": "markdown",
   "metadata": {},
   "source": [
    "# production 2"
   ]
  },
  {
   "cell_type": "code",
   "execution_count": 14,
   "metadata": {},
   "outputs": [],
   "source": [
    "columns = ['production_no2']\n",
    "for col in columns:   \n",
    "    data.loc[data[col].str.contains('new'),col]='New'"
   ]
  },
  {
   "cell_type": "code",
   "execution_count": 15,
   "metadata": {},
   "outputs": [],
   "source": [
    "productions2 = data['production_no2'].copy()\n",
    "productionlist2 = []\n",
    "for production_no2 in productions2:\n",
    "    for lvl2 in productionlevel1:\n",
    "        if production_no2 in productionlevel1[lvl2]:\n",
    "            productionlist2.append(lvl2)"
   ]
  },
  {
   "cell_type": "code",
   "execution_count": 16,
   "metadata": {},
   "outputs": [
    {
     "data": {
      "text/plain": [
       "{'New',\n",
       " 'abishek pictures',\n",
       " 'anandi art creations',\n",
       " 'annapurna studios',\n",
       " 'ariel studios',\n",
       " 'big ben cinemas',\n",
       " 'ck entertainments',\n",
       " 'creative commercials',\n",
       " 'dvv entertainment',\n",
       " 'east coast production',\n",
       " 'eros international',\n",
       " 'first frame entertainments',\n",
       " 'flying frogs',\n",
       " 'g mahesh babu entertainment pvt ltd',\n",
       " 'ga2 pictures',\n",
       " 'geetha arts',\n",
       " 'indira productions',\n",
       " 'ira creations',\n",
       " 'madhura entertainment',\n",
       " 'manyam productions',\n",
       " 'maruthi talkies',\n",
       " 'mvv cinema',\n",
       " 'mythri movie makers',\n",
       " 'nbk films',\n",
       " 'puri jagannadh touring talkies',\n",
       " 'rama lakshmi cine creations',\n",
       " 'sampath nandi team works',\n",
       " 'shine screens',\n",
       " 'shresht movies',\n",
       " 'silly monks studios',\n",
       " 'sithara entertainments',\n",
       " 'sri devi movies',\n",
       " 'sri tirumala tirupathi venkateswara films',\n",
       " 'sri venkateswara cine chitra',\n",
       " 'sri venkateswara creations',\n",
       " 'studio green',\n",
       " 'suresh productions',\n",
       " 't-series',\n",
       " 'uv creations',\n",
       " 'vaaraahi chalana chitram',\n",
       " 'vyjayanthi movies',\n",
       " 'y not studios'}"
      ]
     },
     "execution_count": 16,
     "metadata": {},
     "output_type": "execute_result"
    }
   ],
   "source": [
    "set(data['production_no2']).difference(set(data['production_no1']))"
   ]
  },
  {
   "cell_type": "code",
   "execution_count": 17,
   "metadata": {},
   "outputs": [],
   "source": [
    "data[\"production_no2\"]=productionlist2"
   ]
  },
  {
   "cell_type": "code",
   "execution_count": 18,
   "metadata": {},
   "outputs": [
    {
     "data": {
      "text/plain": [
       "18"
      ]
     },
     "execution_count": 18,
     "metadata": {},
     "output_type": "execute_result"
    }
   ],
   "source": [
    "data[\"production_no2\"].nunique()"
   ]
  },
  {
   "cell_type": "markdown",
   "metadata": {},
   "source": [
    "# production 3"
   ]
  },
  {
   "cell_type": "code",
   "execution_count": 19,
   "metadata": {},
   "outputs": [],
   "source": [
    "columns = ['production_no3']\n",
    "for col in columns:   \n",
    "    data.loc[data[col].str.contains('new'),col]='New'"
   ]
  },
  {
   "cell_type": "code",
   "execution_count": 20,
   "metadata": {},
   "outputs": [],
   "source": [
    "productions3 = data['production_no3'].copy()\n",
    "productionlist3 = []\n",
    "for production_no3 in productions3:\n",
    "    for lvl3 in productionlevel1:\n",
    "        if production_no3 in productionlevel1[lvl3]:\n",
    "            productionlist3.append(lvl3)"
   ]
  },
  {
   "cell_type": "code",
   "execution_count": 21,
   "metadata": {},
   "outputs": [],
   "source": [
    "data[\"production_no3\"]=productionlist3"
   ]
  },
  {
   "cell_type": "code",
   "execution_count": 22,
   "metadata": {},
   "outputs": [
    {
     "data": {
      "text/plain": [
       "array(['no one', 'level-8', 'level-13', 'new', 'level-4', 'level-7',\n",
       "       'level-2', 'level-14', 'level-1', 'level-5', 'level-11', 'level-3',\n",
       "       'level-10', 'level-16', 'level-9', 'level-6', 'level-15',\n",
       "       'level-12'], dtype=object)"
      ]
     },
     "execution_count": 22,
     "metadata": {},
     "output_type": "execute_result"
    }
   ],
   "source": [
    "data[\"production_no3\"].unique()"
   ]
  },
  {
   "cell_type": "markdown",
   "metadata": {},
   "source": [
    "# cinematography"
   ]
  },
  {
   "cell_type": "code",
   "execution_count": 23,
   "metadata": {},
   "outputs": [],
   "source": [
    "columns = ['cinematographer']\n",
    "for col in columns:   \n",
    "    data.loc[data[col].str.contains('new'),col]='new'"
   ]
  },
  {
   "cell_type": "code",
   "execution_count": 24,
   "metadata": {},
   "outputs": [],
   "source": [
    "columns = ['cinematographer']\n",
    "for col in columns:   \n",
    "    data.loc[data[col].str.contains('seasonal'),col]='seasonal'"
   ]
  },
  {
   "cell_type": "code",
   "execution_count": 25,
   "metadata": {},
   "outputs": [],
   "source": [
    "cameralevels={'level-1':['senthil kumar','p.c sreeram','rathnavelu','p.s vinod'],\n",
    "'level-2':['madhi','v manikandan','miroslaw kuba brozek','sameer reddy'],\n",
    "'level-3':['rajeev ravi','natarajan subramaniam','choka.k.naidu','gnana shekar v.s','k.u mohanan'],\n",
    "'level-4':['ayananka bose','vetri palanisamy','prasad murella','k.v guhan','karthik ghattamaneni'],\n",
    "'level-5':['p.g vinda','santhana krishnan','sathyan sooryan','s manikandan'],\n",
    "'level-6':['ram prasad','r.d rajashekar','sai sriram','george.c.williams'],\n",
    "'level-7':['arthur.a.wilson','sam.k.naidu','venkat.c.dilip','vishnu sharma','sanu varghese','advaitha gurumurthy'],\n",
    "'level-8':['richard prasad','shamdat','niketh bommireddy','sujith sarang','raj thota','ravi yadav'],\n",
    "'level-9':['mukesh g','vijay.c.chakravarthy','palani karthik','sudhakar yakkanti','sirsha ray','nizar shafi'],\n",
    "'level-10':['andrew i','maneesh chandra bhatt','shaneil deo','vijay.c.kumar','raamy','rajesh yadav','mahendiran jayaraju'],\n",
    "'level-11':['p.k varma','j yuvaraj','m.sukumar','garudavega anji','shekar chandru','jaya krishna gummadi'],\n",
    "'level-12':['venkat.r.prasad','soundarrajan','sarvesh murari','raam','divakar mani','dasaradhi sivendra','vedaraman sankara'],\n",
    "'level-13':['rajashekar b','t surendra reddy','suresh sarangam','a vasanth','anil bandari','guru prashanth rai','arul vincent'],\n",
    "'level-14':['anish tharun kumar','suresh ragutu','r.k prathap','bal reddy p','r siddharth','l.k vijay','lavith','samala bhasker'],\n",
    "'level-15':['prasad g.k','rasool ellore','sathish muthayala','s.v vishweshwar','praveen vanamali','dhamu narravula','d yadhagiri','eshwar ellumahanthi','jagadeesh cheekati','b.v amarnadh reddy'],\n",
    "'more than one':['more than one'],\n",
    "'more than one(experience)':['more than one(experience)'],\n",
    "'seasonal':['seasonal'],\n",
    "'new':['new']}"
   ]
  },
  {
   "cell_type": "code",
   "execution_count": 26,
   "metadata": {},
   "outputs": [],
   "source": [
    "cameras= data['cinematographer'].copy()\n",
    "cameralist = []\n",
    "for cinematographer in cameras:\n",
    "    for lvl in cameralevels:\n",
    "        if cinematographer in cameralevels[lvl]:\n",
    "            cameralist.append(lvl)"
   ]
  },
  {
   "cell_type": "code",
   "execution_count": 27,
   "metadata": {},
   "outputs": [],
   "source": [
    "data[\"cinematographer\"]=cameralist"
   ]
  },
  {
   "cell_type": "code",
   "execution_count": 28,
   "metadata": {},
   "outputs": [
    {
     "data": {
      "text/plain": [
       "array(['level-10', 'new', 'level-8', 'level-6', 'level-2', 'level-11',\n",
       "       'level-7', 'level-12', 'level-15', 'level-1', 'level-4',\n",
       "       'more than one', 'level-13', 'level-9', 'level-3',\n",
       "       'more than one(experience)', 'level-5', 'seasonal', 'level-14'],\n",
       "      dtype=object)"
      ]
     },
     "execution_count": 28,
     "metadata": {},
     "output_type": "execute_result"
    }
   ],
   "source": [
    "data[\"cinematographer\"].unique()"
   ]
  },
  {
   "cell_type": "markdown",
   "metadata": {},
   "source": [
    "# fights 1"
   ]
  },
  {
   "cell_type": "code",
   "execution_count": 29,
   "metadata": {},
   "outputs": [],
   "source": [
    "columns = ['fight_master_one']\n",
    "for col in columns:   \n",
    "    data.loc[data[col].str.contains('new'),col]='new'"
   ]
  },
  {
   "cell_type": "code",
   "execution_count": 30,
   "metadata": {},
   "outputs": [],
   "source": [
    "columns = ['fight_master_one']\n",
    "for col in columns:   \n",
    "    data.loc[data[col].str.contains('seasonal'),col]='seasonal'"
   ]
  },
  {
   "cell_type": "code",
   "execution_count": 31,
   "metadata": {},
   "outputs": [],
   "source": [
    "columns = ['fight_master_one']\n",
    "for col in columns:   \n",
    "    data.loc[data[col].str.contains('foreign'),col]='foreign'"
   ]
  },
  {
   "cell_type": "code",
   "execution_count": 32,
   "metadata": {},
   "outputs": [],
   "source": [
    "fighterlevels={'level-1':['ram laxman','vijay','peter hein','vijay'],\n",
    "            'level-2':['venkat','kanal kannan','stunt silva'],\n",
    "             'level-3':['real satheesh','ravi varma','dhilip subbarayan'],\n",
    "             'level-4':['dragon prakash','rama krishna','anbariv'],\n",
    "             'level-5':['jashuva','nandu','ram sunkara'],\n",
    "             'no one':['no one'],\n",
    "             'no fights':['no fights'],\n",
    "             'new':['new'],\n",
    "             'seasonal':[\"seasonal\"],\n",
    "              'foreign':[\"foreign\"]}"
   ]
  },
  {
   "cell_type": "code",
   "execution_count": 33,
   "metadata": {},
   "outputs": [],
   "source": [
    "fighters= data['fight_master_one'].copy()\n",
    "fighterslist = []\n",
    "for fight_master_one in fighters:\n",
    "    for lvl in fighterlevels:\n",
    "        if fight_master_one in fighterlevels[lvl]:\n",
    "            fighterslist.append(lvl)"
   ]
  },
  {
   "cell_type": "code",
   "execution_count": 34,
   "metadata": {},
   "outputs": [],
   "source": [
    "data[\"fight_master_one\"]=fighterslist"
   ]
  },
  {
   "cell_type": "code",
   "execution_count": 35,
   "metadata": {},
   "outputs": [
    {
     "data": {
      "text/plain": [
       "array(['level-4', 'level-5', 'no one', 'new', 'level-1', 'level-2',\n",
       "       'level-3', 'no fights', 'seasonal'], dtype=object)"
      ]
     },
     "execution_count": 35,
     "metadata": {},
     "output_type": "execute_result"
    }
   ],
   "source": [
    "data[\"fight_master_one\"].unique()"
   ]
  },
  {
   "cell_type": "markdown",
   "metadata": {},
   "source": [
    "# fight master2"
   ]
  },
  {
   "cell_type": "code",
   "execution_count": 36,
   "metadata": {},
   "outputs": [],
   "source": [
    "columns = ['fight_master_two']\n",
    "for col in columns:   \n",
    "    data.loc[data[col].str.contains('new'),col]='new'\n",
    "    \n",
    "columns = ['fight_master_two']\n",
    "for col in columns:   \n",
    "    data.loc[data[col].str.contains('seasonal'),col]='seasonal'\n",
    "\n",
    "columns = ['fight_master_two']\n",
    "for col in columns:   \n",
    "    data.loc[data[col].str.contains('foreign'),col]='foreign'"
   ]
  },
  {
   "cell_type": "code",
   "execution_count": 37,
   "metadata": {},
   "outputs": [],
   "source": [
    "fighters2= data['fight_master_two'].copy()\n",
    "fighterslist2 = []\n",
    "for fight_master_two in fighters2:\n",
    "    for lvl in fighterlevels:\n",
    "        if fight_master_two in fighterlevels[lvl]:\n",
    "            fighterslist2.append(lvl)"
   ]
  },
  {
   "cell_type": "code",
   "execution_count": 38,
   "metadata": {},
   "outputs": [],
   "source": [
    "data[\"fight_master_two\"]=fighterslist2"
   ]
  },
  {
   "cell_type": "code",
   "execution_count": 39,
   "metadata": {},
   "outputs": [
    {
     "data": {
      "text/plain": [
       "array(['no one', 'foreign', 'new', 'level-5', 'level-3', 'level-2',\n",
       "       'level-1', 'level-4', 'seasonal'], dtype=object)"
      ]
     },
     "execution_count": 39,
     "metadata": {},
     "output_type": "execute_result"
    }
   ],
   "source": [
    "data[\"fight_master_two\"].unique()"
   ]
  },
  {
   "cell_type": "markdown",
   "metadata": {},
   "source": [
    "# fight masters 3"
   ]
  },
  {
   "cell_type": "code",
   "execution_count": 40,
   "metadata": {},
   "outputs": [],
   "source": [
    "columns = ['fight_master_three']\n",
    "for col in columns:   \n",
    "    data.loc[data[col].str.contains('new'),col]='new'\n",
    "    \n",
    "columns = ['fight_master_three']\n",
    "for col in columns:   \n",
    "    data.loc[data[col].str.contains('seasonal'),col]='seasonal'\n",
    "\n",
    "columns = ['fight_master_three']\n",
    "for col in columns:   \n",
    "    data.loc[data[col].str.contains('foreign'),col]='foreign'"
   ]
  },
  {
   "cell_type": "code",
   "execution_count": 41,
   "metadata": {},
   "outputs": [],
   "source": [
    "fighters3= data['fight_master_three'].copy()\n",
    "fighterslist3 = []\n",
    "for fight_master_three in fighters3:\n",
    "    for lvl in fighterlevels:\n",
    "        if fight_master_three in fighterlevels[lvl]:\n",
    "            fighterslist3.append(lvl)"
   ]
  },
  {
   "cell_type": "code",
   "execution_count": 42,
   "metadata": {},
   "outputs": [],
   "source": [
    "data[\"fight_master_three\"]=fighterslist3"
   ]
  },
  {
   "cell_type": "code",
   "execution_count": 43,
   "metadata": {},
   "outputs": [
    {
     "data": {
      "text/plain": [
       "array(['no one', 'level-4', 'foreign', 'level-2', 'level-5', 'level-3',\n",
       "       'new', 'level-1'], dtype=object)"
      ]
     },
     "execution_count": 43,
     "metadata": {},
     "output_type": "execute_result"
    }
   ],
   "source": [
    "data[\"fight_master_three\"].unique()"
   ]
  },
  {
   "cell_type": "markdown",
   "metadata": {},
   "source": [
    "# art directors"
   ]
  },
  {
   "cell_type": "code",
   "execution_count": 44,
   "metadata": {},
   "outputs": [],
   "source": [
    "columns = ['art_director']\n",
    "for col in columns:   \n",
    "    data.loc[data[col].str.contains('new'),col]='new'\n",
    "    \n",
    "columns = ['art_director']\n",
    "for col in columns:   \n",
    "    data.loc[data[col].str.contains('seasonal'),col]='seasonal'"
   ]
  },
  {
   "cell_type": "code",
   "execution_count": 45,
   "metadata": {},
   "outputs": [],
   "source": [
    "artlevels={'level-1':['sabu cyril','rajeevan','thota dharani','a.s prakash','vaishnavi reddy'],\n",
    "'level-2':['rama krishna and mounika','kolla avinash','ravindar','milan','suresh selvarajan'],\n",
    "'level-3':['kosanam vital','ramanjaneyulu.a','ramana vanka','sahi suresh'],\n",
    "'level-4':['kiran kumar manne','brahma kadali','shivam rao','drk kiran and s.s moorthy'],\n",
    "'level-5':['chinna','shaik jhonny','gandhi nandikudikar','selva kumar'],\n",
    "'level-6':['t nagendra prasad','rajeev nayer','s.v murali','latha tharun','satyanarayana d.y'],\n",
    "'level-7':['nagendra','srikanth ramisetty','mridul baidya','lakshmi sindhuja grandhi'],\n",
    "'level-8':['a ram kumar and b supriya','raghu kulakarni','thaju','bhupesh.r.bhupathi'],\n",
    "'level-9':['j.k murthy','krishna maya','narayana reddy','vivek annamalai','hari varma','t.n prasad'],\n",
    "'more than one':['more than one'],\n",
    "'new':['new'],\n",
    "'seasonal':['seasonal']}"
   ]
  },
  {
   "cell_type": "code",
   "execution_count": 46,
   "metadata": {},
   "outputs": [],
   "source": [
    "arts= data['art_director'].copy()\n",
    "artlist = []\n",
    "for art_director in arts:\n",
    "    for lvl in artlevels:\n",
    "        if art_director in artlevels[lvl]:\n",
    "            artlist.append(lvl)"
   ]
  },
  {
   "cell_type": "code",
   "execution_count": 47,
   "metadata": {},
   "outputs": [],
   "source": [
    "data[\"art_director\"]=artlist"
   ]
  },
  {
   "cell_type": "code",
   "execution_count": 48,
   "metadata": {},
   "outputs": [
    {
     "data": {
      "text/plain": [
       "array(['new', 'level-9', 'level-3', 'level-5', 'level-1', 'level-2',\n",
       "       'level-8', 'level-7', 'level-4', 'more than one', 'level-6',\n",
       "       'seasonal'], dtype=object)"
      ]
     },
     "execution_count": 48,
     "metadata": {},
     "output_type": "execute_result"
    }
   ],
   "source": [
    "data[\"art_director\"].unique()"
   ]
  },
  {
   "cell_type": "markdown",
   "metadata": {},
   "source": [
    "# posters"
   ]
  },
  {
   "cell_type": "code",
   "execution_count": 49,
   "metadata": {},
   "outputs": [],
   "source": [
    "Postercounts = data['poster'].value_counts()\n",
    "Posternames = Postercounts[Postercounts==1].index\n",
    "data.loc[data['poster'].isin(Posternames),'poster'] ='new'"
   ]
  },
  {
   "cell_type": "code",
   "execution_count": 50,
   "metadata": {},
   "outputs": [],
   "source": [
    "posterlevels={'level-1':['anil bhanu','siva kiran'],\n",
    "             'level-2':['dhanie aelay','padmasri'],\n",
    "             'level-3':['design id','omkar kadiyam','ram peddeti','vikram designs'],\n",
    "             'level-4':['kishore posters','posterman design works','krishna digitals'],\n",
    "             'level-5':['vasu prem','gopi prasanna','eshan design'],\n",
    "             'new':['new']}"
   ]
  },
  {
   "cell_type": "code",
   "execution_count": 51,
   "metadata": {},
   "outputs": [],
   "source": [
    "posters= data['poster'].copy()\n",
    "posterlist = []\n",
    "for poster in posters:\n",
    "    for lvl in posterlevels:\n",
    "        if poster in posterlevels[lvl]:\n",
    "            posterlist.append(lvl)"
   ]
  },
  {
   "cell_type": "code",
   "execution_count": 52,
   "metadata": {},
   "outputs": [],
   "source": [
    "data[\"poster\"]=posterlist"
   ]
  },
  {
   "cell_type": "code",
   "execution_count": 53,
   "metadata": {},
   "outputs": [
    {
     "data": {
      "text/plain": [
       "array(['level-2', 'level-1', 'new', 'level-3', 'level-4', 'level-5'],\n",
       "      dtype=object)"
      ]
     },
     "execution_count": 53,
     "metadata": {},
     "output_type": "execute_result"
    }
   ],
   "source": [
    "data[\"poster\"].unique()"
   ]
  },
  {
   "cell_type": "markdown",
   "metadata": {},
   "source": [
    "# music"
   ]
  },
  {
   "cell_type": "code",
   "execution_count": 54,
   "metadata": {},
   "outputs": [],
   "source": [
    "columns = ['music']\n",
    "for col in columns:   \n",
    "    data.loc[data[col].str.contains('new'),col]='new'\n",
    " "
   ]
  },
  {
   "cell_type": "code",
   "execution_count": 55,
   "metadata": {},
   "outputs": [],
   "source": [
    "   \n",
    "columns = ['music']\n",
    "for col in columns:   \n",
    "    data.loc[data[col].str.contains('seasonal'),col]='seasonal'"
   ]
  },
  {
   "cell_type": "code",
   "execution_count": 56,
   "metadata": {},
   "outputs": [],
   "source": [
    "musiclevels={'level-1':['devi sri prasad','vishal-shekhar','pritam','thamman','anirudh','amit trivedi'],\n",
    "             'level-2':['m.m keeravani','gopi sunder','hiphop tamizha','mani sharma','chirantan bhatt'],\n",
    "             'level-3':['vivek sagar','mickey.j.mayer','ghibran','govind vasanth'],\n",
    "             'level-4':['mahati swara sagar','prashant pillai','vishal chandrasekhar','sam c.s'],\n",
    "             'level-5':['anoop rubens','b ajaneesh loknath','shaan rahman','justin prabhakaran','sri charan pakala','radhaan'],\n",
    "             'level-6':['k','chaitan bharadwaj','jakes bejay','sharreth','dhibu ninan thomas','sai kartheek','mark.k.robin'],\n",
    "             'level-7':['kalyan malik','pravin lakkaraju','sandeep chowta','raghu dixit','harsha vardhan rameshwar','poorna chandra tejaswi','raghu kunchey'],\n",
    "             'level-8':['shekar chandra','leon james','sai vasanth','prashanth.r.vihari','bala murali balu','nivas prasanna','shravan bharadwaj'],\n",
    "             'level-9':['judah sandhy','ron ethan yohann','sunil kashyap','suresh bobbili','bheems ceciroleo','sunny m.r',],\n",
    "             'level-10':['kiran ravindranath','k.m radha krishnan','ravi shankar','j.b','koti','shakthikanth karthik','shabir'],\n",
    "             'level-11':['naresh kumaran','vasuki vaibhav','karthik kodakamdla','gifton elias','syed kamran','bulganin','sanker sharma','s.chinna','smaran'],\n",
    "             'new':['new'],\n",
    "             'more than one':['more than one'],\n",
    "             'more than one(experience)':['more than one(experience)'],\n",
    "             'seasonal':['seasonal']}"
   ]
  },
  {
   "cell_type": "code",
   "execution_count": 57,
   "metadata": {},
   "outputs": [],
   "source": [
    "musics= data['music'].copy()\n",
    "musiclist = []\n",
    "for music in musics:\n",
    "    for lvl in musiclevels:\n",
    "        if music in musiclevels[lvl]:\n",
    "            musiclist.append(lvl)"
   ]
  },
  {
   "cell_type": "code",
   "execution_count": 58,
   "metadata": {},
   "outputs": [],
   "source": [
    "data[\"music\"]=musiclist"
   ]
  },
  {
   "cell_type": "code",
   "execution_count": 59,
   "metadata": {},
   "outputs": [
    {
     "data": {
      "text/plain": [
       "array(['level-6', 'level-8', 'level-3', 'level-11', 'more than one',\n",
       "       'level-1', 'level-5', 'level-2', 'new', 'seasonal', 'level-4',\n",
       "       'level-9', 'level-7', 'level-10'], dtype=object)"
      ]
     },
     "execution_count": 59,
     "metadata": {},
     "output_type": "execute_result"
    }
   ],
   "source": [
    "data[\"music\"].unique()"
   ]
  },
  {
   "cell_type": "markdown",
   "metadata": {},
   "source": [
    "# back ground"
   ]
  },
  {
   "cell_type": "code",
   "execution_count": 60,
   "metadata": {},
   "outputs": [],
   "source": [
    "columns = ['back_ground']\n",
    "for col in columns:   \n",
    "    data.loc[data[col].str.contains('new'),col]='new'\n",
    " "
   ]
  },
  {
   "cell_type": "code",
   "execution_count": 61,
   "metadata": {},
   "outputs": [],
   "source": [
    "   \n",
    "columns = ['back_ground']\n",
    "for col in columns:   \n",
    "    data.loc[data[col].str.contains('seasonal'),col]='seasonal'"
   ]
  },
  {
   "cell_type": "code",
   "execution_count": 62,
   "metadata": {},
   "outputs": [],
   "source": [
    "musiclevels2={'level-1':['devi sri prasad','vishal-shekhar','pritam','thamman','anirudh','amit trivedi'],\n",
    "             'level-2':['m.m keeravani','gopi sunder','hiphop tamizha','mani sharma','chirantan bhatt'],\n",
    "             'level-3':['vivek sagar','mickey.j.mayer','ghibran'],\n",
    "             'level-4':['mahati swara sagar','govind vasanth','prashant pillai','vishal chandrasekhar','sam c.s'],\n",
    "             'level-5':['anoop rubens','b ajaneesh loknath','shaan rahman','justin prabhakaran','sri charan pakala','radhaan'],\n",
    "             'level-6':['k','chaitan bharadwaj','jakes bejay','sharreth','dhibu ninan thomas','sai kartheek','mark.k.robin'],\n",
    "             'level-7':['kalyan malik','pravin lakkaraju','sandeep chowta','raghu dixit','harsha vardhan rameshwar','poorna chandra tejaswi','raghu kunchey'],\n",
    "             'level-8':['shekar chandra','leon james','sai vasanth','prashanth.r.vihari','bala murali balu','nivas prasanna','shravan bharadwaj'],\n",
    "             'level-9':['judah sandhy','ron ethan yohann','sunil kashyap','suresh bobbili','bheems ceciroleo','sunny m.r',],\n",
    "             'level-10':['kiran ravindranath','k.m radha krishnan','ravi shankar','j.b','koti','shakthikanth karthik','shabir'],\n",
    "             'level-11':['naresh kumaran','vasuki vaibhav','karthik kodakamdla','gifton elias','syed kamran','bulganin','sanker sharma','s.chinna','smaran'],\n",
    "             'new':['new'],\n",
    "              'more than one(experience)':['more than one(experience)'],\n",
    "             'more than one':['more than one'],\n",
    "             'seasonal':['seasonal']}"
   ]
  },
  {
   "cell_type": "code",
   "execution_count": 63,
   "metadata": {},
   "outputs": [],
   "source": [
    "musics2= data['back_ground'].copy()\n",
    "musiclist2= []\n",
    "for back_ground in musics2:\n",
    "    for lvl in musiclevels:\n",
    "        if back_ground in musiclevels2[lvl]:\n",
    "            musiclist2.append(lvl)"
   ]
  },
  {
   "cell_type": "code",
   "execution_count": 64,
   "metadata": {},
   "outputs": [],
   "source": [
    "data[\"back_ground\"]=musiclist2"
   ]
  },
  {
   "cell_type": "code",
   "execution_count": 65,
   "metadata": {},
   "outputs": [
    {
     "data": {
      "text/plain": [
       "array(['level-6', 'level-8', 'level-3', 'level-11', 'level-1', 'level-5',\n",
       "       'level-2', 'new', 'seasonal', 'level-4', 'level-9', 'level-7',\n",
       "       'level-10', 'more than one(experience)', 'more than one'],\n",
       "      dtype=object)"
      ]
     },
     "execution_count": 65,
     "metadata": {},
     "output_type": "execute_result"
    }
   ],
   "source": [
    "data[\"back_ground\"].unique()"
   ]
  },
  {
   "cell_type": "markdown",
   "metadata": {},
   "source": [
    "# director"
   ]
  },
  {
   "cell_type": "code",
   "execution_count": 66,
   "metadata": {},
   "outputs": [],
   "source": [
    "columns = ['director']\n",
    "for col in columns:   \n",
    "    data.loc[data[col].str.contains('new'),col]='new'"
   ]
  },
  {
   "cell_type": "code",
   "execution_count": 67,
   "metadata": {},
   "outputs": [],
   "source": [
    "columns = ['director']\n",
    "for col in columns:   \n",
    "    data.loc[data[col].str.contains('seasonal'),col]='seasonal'"
   ]
  },
  {
   "cell_type": "code",
   "execution_count": 68,
   "metadata": {},
   "outputs": [],
   "source": [
    "directorlevels={'level-1':['koratala siva','trivikram srinivas'],\n",
    "               'level-2':['sukumar','ram gopal varma','boyapati srinu','surender reddy'],\n",
    "               'level-3':['nag ashwin','anil ravipudi','puri jagannadh','vikram.k.kumar'],\n",
    "               'level-4':['parasuram','vamshi paidipally','harish shankar'],\n",
    "               'level-5':['v.v vinayak','krish','sujeeth','maruthi',],\n",
    "               'level-6':['mohana krishna indraganti','trinadha rao nakkina','k.s ravi kumar'],\n",
    "               'level-7':['sankalp reddy','gowtham tinnanuri','shiva nirvana'],\n",
    "               'level-8':['vi anand','kishore tirumala','b.v nandini reddy'],\n",
    "               'level-9':['venky kudumula','thiru','venky atluri','k.s ravindra'],\n",
    "               'level-10':['anand shankar','sri ram aditya','c prem kumar','pawan kumar'],\n",
    "               'level-11':['prashanth varma','caarthick raju','ramesh varma','santosh.p.jaya kumar'],\n",
    "               'level-12':['g ashok','satish vegesna','teja','g nageswara reddy'],\n",
    "               'level-13':['hari nath','rahul sankrityan','tharun bhaskar','krishna chaitanya','b jeevan reddy'],\n",
    "               'level-14':['vakkantham vamsi','hanu raghavapudi','kalyan krishna','k.v guhan','ravi babu'],\n",
    "               'level-15':['chandoo mondeti','prabhakar','merlapaka gandhi','annish krishna','rahul ravindran','sudheer varma','g.r krishna','mahi.v.raghav'],\n",
    "               'level-16':['sriwass','karunakaran','bhimaneni srinivasa rao','arun pawar','ohmkar'],\n",
    "               'level-17':['madan','srinu vaitla','kranthi madhav','sai kiran adivi'],\n",
    "               'level-18':['paruchuri murali','j.b murali krishna','ayodhyakumar krishnamsetty','rajaa kiran'],\n",
    "               'new':['new'],\n",
    "               'seasonal':['seasonal'],\n",
    "               'more than one':['more than one']}"
   ]
  },
  {
   "cell_type": "code",
   "execution_count": 69,
   "metadata": {},
   "outputs": [],
   "source": [
    "directors= data['director'].copy()\n",
    "directorslist= []\n",
    "for director in directors:\n",
    "    for lvl in directorlevels:\n",
    "        if director in directorlevels[lvl]:\n",
    "            directorslist.append(lvl)"
   ]
  },
  {
   "cell_type": "code",
   "execution_count": 70,
   "metadata": {},
   "outputs": [],
   "source": [
    "data[\"director\"]=directorslist"
   ]
  },
  {
   "cell_type": "code",
   "execution_count": 71,
   "metadata": {},
   "outputs": [
    {
     "data": {
      "text/plain": [
       "array(['level-16', 'new', 'level-8', 'seasonal', 'level-5', 'level-11',\n",
       "       'level-3', 'level-15', 'level-2', 'level-4', 'level-9', 'level-13',\n",
       "       'level-17', 'level-14', 'level-12', 'level-6', 'level-7',\n",
       "       'more than one', 'level-18', 'level-1', 'level-10'], dtype=object)"
      ]
     },
     "execution_count": 71,
     "metadata": {},
     "output_type": "execute_result"
    }
   ],
   "source": [
    "data[\"director\"].unique()"
   ]
  },
  {
   "cell_type": "code",
   "execution_count": 72,
   "metadata": {},
   "outputs": [],
   "source": [
    "data.drop(\"writer\",axis=1,inplace=True)"
   ]
  },
  {
   "cell_type": "markdown",
   "metadata": {},
   "source": [
    "# first hero"
   ]
  },
  {
   "cell_type": "code",
   "execution_count": 73,
   "metadata": {},
   "outputs": [],
   "source": [
    "columns = ['first_hero']\n",
    "for col in columns:   \n",
    "    data.loc[data[col].str.contains('new'),col]='new'\n",
    "    \n",
    "columns = ['first_hero']\n",
    "for col in columns:   \n",
    "    data.loc[data[col].str.contains('seasonal'),col]='seasonal'"
   ]
  },
  {
   "cell_type": "code",
   "execution_count": 74,
   "metadata": {},
   "outputs": [],
   "source": [
    "herolevels={'level-1':['pawan kalyan','mahesh babu','chiranjeevi','prabhas'],\n",
    "           'level-2':['jr ntr','allu arjun','ram charan',],\n",
    "           'level-3':['nagarjuna','mammootty','venkatesh','bala krishna'],\n",
    "           'level-4':['nithin','nani','varun tej',],\n",
    "           'level-5':['ravi teja','naga chaitanya','sai dharma tej','sharwanand'],\n",
    "           'level-6':['aadhi pinisetty','dulquer salmaan','vijay devarakonda','adivi sesh'],\n",
    "           'level-7':['ram pothineni','akhil','atharvaa', 'gopi chand','bellamkonda srinivas'],\n",
    "           'level-8':['prasanna','vishwak sen','allu sirish','karthikeya','naga shourya'],\n",
    "           'level-9':['sudheer babu','sumanth shailendra','kalyan ram','nikhil','sathya dev'],\n",
    "           'level-10':['sree vishnu','rajasekhar','naveen polishetty','rahul vijay','sundeep kishan'],\n",
    "           'level-11':['allari naresh','sumanth','sushanth','nara rohit','raj tharun','sunil'],\n",
    "           'level-12':['srikanth','manchu manoj','manchu vishnu','aadi saikumar','mohan babu'],\n",
    "           'level-13':['kalyan dev','sumanth ashwin','rakshith','karthik raju','sapthagiri'],\n",
    "           'level-14':['santosh sobhan','akash puri','vishwadev rachakonda','chetan maddineni','srinivas sayee'],\n",
    "           'new':['new'],\n",
    "           'no hero':['no hero'],\n",
    "           'seasonal':['seasonal']}"
   ]
  },
  {
   "cell_type": "code",
   "execution_count": 75,
   "metadata": {},
   "outputs": [],
   "source": [
    "heros= data['first_hero'].copy()\n",
    "heroslist= []\n",
    "for first_hero in heros:\n",
    "    for lvl in herolevels:\n",
    "        if first_hero in herolevels[lvl]:\n",
    "            heroslist.append(lvl)"
   ]
  },
  {
   "cell_type": "code",
   "execution_count": 76,
   "metadata": {},
   "outputs": [],
   "source": [
    "data[\"first_hero\"]=heroslist"
   ]
  },
  {
   "cell_type": "code",
   "execution_count": 77,
   "metadata": {},
   "outputs": [
    {
     "data": {
      "text/plain": [
       "17"
      ]
     },
     "execution_count": 77,
     "metadata": {},
     "output_type": "execute_result"
    }
   ],
   "source": [
    "data[\"first_hero\"].nunique()"
   ]
  },
  {
   "cell_type": "markdown",
   "metadata": {},
   "source": [
    "# second hero"
   ]
  },
  {
   "cell_type": "code",
   "execution_count": 78,
   "metadata": {},
   "outputs": [],
   "source": [
    "columns = ['second_hero']\n",
    "for col in columns:   \n",
    "    data.loc[data[col].str.contains('new'),col]='new'\n",
    "    \n",
    "columns = ['second_hero']\n",
    "for col in columns:   \n",
    "    data.loc[data[col].str.contains('seasonal'),col]='seasonal'"
   ]
  },
  {
   "cell_type": "code",
   "execution_count": 79,
   "metadata": {},
   "outputs": [],
   "source": [
    "heros2= data['second_hero'].copy()\n",
    "heroslist2= []\n",
    "for second_hero in heros2:\n",
    "    for lvl in herolevels:\n",
    "        if second_hero in herolevels[lvl]:\n",
    "            heroslist2.append(lvl)"
   ]
  },
  {
   "cell_type": "code",
   "execution_count": 80,
   "metadata": {},
   "outputs": [],
   "source": [
    "data[\"second_hero\"]=heroslist2"
   ]
  },
  {
   "cell_type": "code",
   "execution_count": 81,
   "metadata": {},
   "outputs": [
    {
     "data": {
      "text/plain": [
       "17"
      ]
     },
     "execution_count": 81,
     "metadata": {},
     "output_type": "execute_result"
    }
   ],
   "source": [
    "data[\"second_hero\"].nunique()"
   ]
  },
  {
   "cell_type": "markdown",
   "metadata": {},
   "source": [
    "# heroiens"
   ]
  },
  {
   "cell_type": "code",
   "execution_count": 82,
   "metadata": {},
   "outputs": [],
   "source": [
    "columns = ['first_heroien']\n",
    "for col in columns:   \n",
    "    data.loc[data[col].str.contains('new'),col]='new'\n",
    "    \n",
    "columns = ['first_heroien']\n",
    "for col in columns:   \n",
    "    data.loc[data[col].str.contains('seasonal'),col]='seasonal'\n",
    "\n",
    "olumns = ['first_heroien']\n",
    "for col in columns:   \n",
    "    data.loc[data[col].str.contains('old'),col]='old'"
   ]
  },
  {
   "cell_type": "code",
   "execution_count": 83,
   "metadata": {},
   "outputs": [],
   "source": [
    "heroienlevels={'level-1':['nayanthara','anushka','vidya balan','pooja hegde','shraddha kapoor'],\n",
    "              'level-2':['keerthy suresh','kiara advani','kajal agarwal','samantha','rashmika'],\n",
    "              'level-3':['nabha natesh','taapsee','kalyani priyadarshan','anupama parameswaran','nidhi agarwal'],\n",
    "              'level-4':['sai pallavi','raashi khanna','mehreen pirzada','rakul preet singh','tamannah'],\n",
    "              'level-5':['ritika singh','shraddha srinath','payal rajput','aishwarya rajesh','shalini pandey'],\n",
    "              'level-6':['anu emmanuel','lavanya tripathi','regina cassandra','hansika motwani','nivetha thomas'],\n",
    "              'level-7':['malavika nair','nanditha swetha','ruhani sharma','nivetha pethuraj','megha akarsh','aditi rao hydari'],\n",
    "              'level-8':['lakshmi manchu','adah sharma','niharika konidela','sonal chauhan','shruthi ramachandran'],\n",
    "              'level-9':['tanya hope','sobhita dhulipala','riya suman','vedhika','aakanksha'],\n",
    "              'level-10':['chandini chowdary','amyra dastur','rukshar dhillon','priya vadlamani','priyanka jain','yagna shetty'],\n",
    "              'level-11':['pragya jaiswal','anagha l.k','seerat kapoor','kautilya','zareen khan'],\n",
    "              'level-12':['manali rathod','pallak lalwani','avanthika','neha chauhan','nikhila vimal','samyuktha hegde'],\n",
    "              'level-13':['diksha panth','neha shetty','chitra shukla','simran parneeja','nitya shetty','natasha doshi'],\n",
    "              'level-14':['tanishq rajan','darshana banik','pranali ghoghare','karunya chowdhary','satna titus'],\n",
    "              'new':['new'],\n",
    "              'seasonal':['seasonal'],\n",
    "              'old':['old'],\n",
    "              'no heroien':['no heroien']}"
   ]
  },
  {
   "cell_type": "code",
   "execution_count": 84,
   "metadata": {},
   "outputs": [],
   "source": [
    "heroiens= data['first_heroien'].copy()\n",
    "heroienlist= []\n",
    "for first_heroien in heroiens:\n",
    "    for lvl in heroienlevels:\n",
    "        if first_heroien in heroienlevels[lvl]:\n",
    "            heroienlist.append(lvl)"
   ]
  },
  {
   "cell_type": "code",
   "execution_count": 85,
   "metadata": {},
   "outputs": [
    {
     "data": {
      "text/plain": [
       "267"
      ]
     },
     "execution_count": 85,
     "metadata": {},
     "output_type": "execute_result"
    }
   ],
   "source": [
    "len(heroienlist)"
   ]
  },
  {
   "cell_type": "code",
   "execution_count": 86,
   "metadata": {},
   "outputs": [
    {
     "data": {
      "text/plain": [
       "267"
      ]
     },
     "execution_count": 86,
     "metadata": {},
     "output_type": "execute_result"
    }
   ],
   "source": [
    "len(heroiens)"
   ]
  },
  {
   "cell_type": "code",
   "execution_count": 87,
   "metadata": {},
   "outputs": [],
   "source": [
    "data['first_heroien']=heroienlist"
   ]
  },
  {
   "cell_type": "code",
   "execution_count": 88,
   "metadata": {},
   "outputs": [
    {
     "data": {
      "text/plain": [
       "array(['no heroien', 'new', 'level-2', 'level-5', 'seasonal', 'level-3',\n",
       "       'level-11', 'level-4', 'level-1', 'level-13', 'level-12',\n",
       "       'level-10', 'level-8', 'level-6', 'level-9', 'level-7', 'level-14'],\n",
       "      dtype=object)"
      ]
     },
     "execution_count": 88,
     "metadata": {},
     "output_type": "execute_result"
    }
   ],
   "source": [
    "data['first_heroien'].unique()"
   ]
  },
  {
   "cell_type": "markdown",
   "metadata": {},
   "source": [
    "# 2nd heroien"
   ]
  },
  {
   "cell_type": "code",
   "execution_count": 89,
   "metadata": {},
   "outputs": [
    {
     "name": "stderr",
     "output_type": "stream",
     "text": [
      "C:\\Users\\Hp\\anaconda3\\lib\\site-packages\\pandas\\core\\strings.py:1952: UserWarning: This pattern has match groups. To actually get the groups, use str.extract.\n",
      "  return func(self, *args, **kwargs)\n"
     ]
    },
    {
     "data": {
      "text/plain": [
       "array(['aishwarya rajesh', 'no heroien', 'shraddha kapoor',\n",
       "       'shruthi ramachandran', 'nabha natesh', 'regina cassandra',\n",
       "       'kalyani priyadarshan', 'nayanthara', 'zareen khan',\n",
       "       'priyanka jain', 'lavanya tripathi', 'sonal chauhan',\n",
       "       'payal rajput', 'raashi khanna', 'vidya balan', 'tamannah',\n",
       "       'nidhi agarwal', 'shalini pandey', 'samantha', 'nivetha pethuraj',\n",
       "       'shraddha srinath', 'rukshar dhillon', 'pooja hegde',\n",
       "       'kajal agarwal', 'nandita swetha', 'nivetha thomas',\n",
       "       'mehreen pirzada', 'rashmika', 'kautilya', 'samyuktha hegde',\n",
       "       'anupama parameswaran', 'keerthi suresh', 'karunya chowdhary',\n",
       "       'anu emmanuel', 'aditi rao hydari', 'priya vadlamani',\n",
       "       'kiara advani', 'megha akarsh', 'ruhani sharma', 'aakanksha',\n",
       "       'malavika nair', 'natasha doshi', 'chandini chowdary',\n",
       "       'sobhita dhulipala', 'niharika konidela', 'nikhila vimal',\n",
       "       'tanishq rajan', 'diksha panth', 'satna titus', 'taapsee',\n",
       "       'amyra dastur', 'riya suman', 'chitra shukla', 'seerat kapoor',\n",
       "       'yagna shetty'], dtype=object)"
      ]
     },
     "execution_count": 89,
     "metadata": {},
     "output_type": "execute_result"
    }
   ],
   "source": [
    "data.loc[-(data['second_heroien'].str.contains('(new)'))&-(data['second_heroien'].str.contains('(seasonal)')),'second_heroien'].unique()"
   ]
  },
  {
   "cell_type": "code",
   "execution_count": 90,
   "metadata": {},
   "outputs": [],
   "source": [
    "columns = ['second_heroien']\n",
    "for col in columns:   \n",
    "    data.loc[data[col].str.contains('new'),col]='new'\n",
    "    \n",
    "columns = ['second_heroien']\n",
    "for col in columns:   \n",
    "    data.loc[data[col].str.contains('seasonal'),col]='seasonal'\n",
    "\n",
    "olumns = ['second_heroien']\n",
    "for col in columns:   \n",
    "    data.loc[data[col].str.contains('old'),col]='old'"
   ]
  },
  {
   "cell_type": "code",
   "execution_count": 91,
   "metadata": {},
   "outputs": [],
   "source": [
    "heroienlevels={'level-1':['nayanthara','anushka','vidya balan','pooja hegde','shraddha kapoor'],\n",
    "              'level-2':['keerthi suresh','kiara advani','kajal agarwal','samantha','rashmika'],\n",
    "              'level-3':['nabha natesh','taapsee','kalyani priyadarshan','anupama parameswaran','nidhi agarwal'],\n",
    "              'level-4':['sai pallavi','raashi khanna','mehreen pirzada','rakul preet singh','tamannah'],\n",
    "              'level-5':['ritika singh','shraddha srinath','payal rajput','aishwarya rajesh','shalini pandey'],\n",
    "              'level-6':['anu emmanuel','lavanya tripathi','regina cassandra','hansika motwani','nivetha thomas'],\n",
    "              'level-7':['malavika nair','nandita swetha','ruhani sharma','nivetha pethuraj','megha akarsh','aditi rao hydari'],\n",
    "              'level-8':['lakshmi manchu','adah sharma','niharika konidela','sonal chauhan','shruthi ramachandran'],\n",
    "              'level-9':['tanya hope','sobhita dhulipala','riya suman','vedhika','aakanksha'],\n",
    "              'level-10':['chandini chowdary','amyra dastur','rukshar dhillon','priya vadlamani','priyanka jain','yagna shetty'],\n",
    "              'level-11':['pragya jaiswal','anagha l.k','seerat kapoor','kautilya','zareen khan'],\n",
    "              'level-12':['manali rathod','pallak lalwani','avanthika','neha chauhan','nikhila vimal','samyuktha hegde'],\n",
    "              'level-13':['diksha panth','neha shetty','chitra shukla','simran parneeja','nitya shetty','natasha doshi'],\n",
    "              'level-14':['tanishq rajan','darshana banik','pranali ghoghare','karunya chowdhary','satna titus'],\n",
    "              'new':['new'],\n",
    "              'seasonal':['seasonal'],\n",
    "              'old':['old'],\n",
    "              'no heroien':['no heroien']}"
   ]
  },
  {
   "cell_type": "code",
   "execution_count": 92,
   "metadata": {},
   "outputs": [],
   "source": [
    "heroiens2= data['second_heroien'].copy()\n",
    "heroienlist2= []\n",
    "for second_heroien in heroiens2:\n",
    "    for lvl in heroienlevels:\n",
    "        if second_heroien in heroienlevels[lvl]:\n",
    "            heroienlist2.append(lvl)"
   ]
  },
  {
   "cell_type": "code",
   "execution_count": 93,
   "metadata": {},
   "outputs": [
    {
     "data": {
      "text/plain": [
       "267"
      ]
     },
     "execution_count": 93,
     "metadata": {},
     "output_type": "execute_result"
    }
   ],
   "source": [
    "len(heroienlist2)"
   ]
  },
  {
   "cell_type": "code",
   "execution_count": 94,
   "metadata": {},
   "outputs": [
    {
     "data": {
      "text/plain": [
       "267"
      ]
     },
     "execution_count": 94,
     "metadata": {},
     "output_type": "execute_result"
    }
   ],
   "source": [
    "len(heroiens2)"
   ]
  },
  {
   "cell_type": "code",
   "execution_count": 95,
   "metadata": {},
   "outputs": [],
   "source": [
    "data['second_heroien']=heroienlist2"
   ]
  },
  {
   "cell_type": "code",
   "execution_count": 96,
   "metadata": {},
   "outputs": [
    {
     "data": {
      "text/plain": [
       "array(['level-5', 'no heroien', 'level-1', 'level-8', 'level-3',\n",
       "       'level-6', 'new', 'level-11', 'level-10', 'seasonal', 'level-4',\n",
       "       'level-2', 'level-7', 'level-12', 'level-14', 'level-9',\n",
       "       'level-13'], dtype=object)"
      ]
     },
     "execution_count": 96,
     "metadata": {},
     "output_type": "execute_result"
    }
   ],
   "source": [
    "data['second_heroien'].unique()"
   ]
  },
  {
   "cell_type": "code",
   "execution_count": 97,
   "metadata": {},
   "outputs": [
    {
     "data": {
      "text/plain": [
       "array(['no heroien', 'new', 'level-2', 'level-5', 'seasonal', 'level-3',\n",
       "       'level-11', 'level-4', 'level-1', 'level-13', 'level-12',\n",
       "       'level-10', 'level-8', 'level-6', 'level-9', 'level-7', 'level-14'],\n",
       "      dtype=object)"
      ]
     },
     "execution_count": 97,
     "metadata": {},
     "output_type": "execute_result"
    }
   ],
   "source": [
    "data['first_heroien'].unique()"
   ]
  },
  {
   "cell_type": "code",
   "execution_count": 98,
   "metadata": {},
   "outputs": [],
   "source": [
    "data.drop([\"s.no\",\"movie_name\"],axis=1,inplace=True)"
   ]
  },
  {
   "cell_type": "code",
   "execution_count": 99,
   "metadata": {},
   "outputs": [],
   "source": [
    "\n",
    "genrelist={'a':1,'b':2,'c':3,'d':4,'e':5,'f':6,'g':7,'h':8,'i':9,'j':10,\n",
    "           'k':11,'l':12,'m':13,'n':14,'o':15,'p':16,'q':17,'r':18,'s':19,'t':20,\n",
    "           'u':21,'v':22,'w':23,'x':24,'y':25,'z':26,'ab':27,'ac':28,'ad':29,'ae':30, \n",
    "           'af':31,'ag':32,'ah':33,'ai':34,'aj':35,'ak':36,'al':37,'am':38,'an':39,'ao':40}"
   ]
  },
  {
   "cell_type": "code",
   "execution_count": 100,
   "metadata": {},
   "outputs": [
    {
     "data": {
      "text/plain": [
       "Index(['result', 'director', 'first_hero', 'second_hero', 'first_heroien',\n",
       "       'second_heroien', 'multi_starer', 'music', 'back_ground',\n",
       "       'cinematographer', 'editor', 'audio', 'songs', 'genre',\n",
       "       'production_no1', 'production_no2', 'production_no3',\n",
       "       'combined_production', 'distributed_by', 'month', 'year', 'run_time',\n",
       "       'art_director', 'fight_master_one', 'fight_master_two',\n",
       "       'fight_master_three', 'poster', 'budget'],\n",
       "      dtype='object')"
      ]
     },
     "execution_count": 100,
     "metadata": {},
     "output_type": "execute_result"
    }
   ],
   "source": [
    "data.columns"
   ]
  },
  {
   "cell_type": "code",
   "execution_count": 101,
   "metadata": {},
   "outputs": [],
   "source": [
    "genrelist = dict([(value, key) for key, value in genrelist.items()])"
   ]
  },
  {
   "cell_type": "code",
   "execution_count": 102,
   "metadata": {},
   "outputs": [],
   "source": [
    "data['genre']=data['genre'].map(genrelist)"
   ]
  },
  {
   "cell_type": "code",
   "execution_count": 103,
   "metadata": {},
   "outputs": [
    {
     "data": {
      "text/plain": [
       "Index(['result', 'director', 'first_hero', 'second_hero', 'first_heroien',\n",
       "       'second_heroien', 'multi_starer', 'music', 'back_ground',\n",
       "       'cinematographer', 'editor', 'audio', 'songs', 'genre',\n",
       "       'production_no1', 'production_no2', 'production_no3',\n",
       "       'combined_production', 'distributed_by', 'month', 'year', 'run_time',\n",
       "       'art_director', 'fight_master_one', 'fight_master_two',\n",
       "       'fight_master_three', 'poster', 'budget'],\n",
       "      dtype='object')"
      ]
     },
     "execution_count": 103,
     "metadata": {},
     "output_type": "execute_result"
    }
   ],
   "source": [
    "data.columns"
   ]
  },
  {
   "cell_type": "code",
   "execution_count": 104,
   "metadata": {},
   "outputs": [],
   "source": [
    "data.drop(\"year\",axis=1,inplace=True)"
   ]
  },
  {
   "cell_type": "code",
   "execution_count": 105,
   "metadata": {},
   "outputs": [],
   "source": [
    "data.to_csv(\"list_data.csv\")"
   ]
  },
  {
   "cell_type": "code",
   "execution_count": 106,
   "metadata": {},
   "outputs": [],
   "source": [
    "data2=pd.read_csv(\"list_data.csv\")"
   ]
  },
  {
   "cell_type": "code",
   "execution_count": 107,
   "metadata": {},
   "outputs": [],
   "source": [
    " data2 = data2.iloc[:,1:]"
   ]
  },
  {
   "cell_type": "code",
   "execution_count": 108,
   "metadata": {},
   "outputs": [
    {
     "data": {
      "text/html": [
       "<div>\n",
       "<style scoped>\n",
       "    .dataframe tbody tr th:only-of-type {\n",
       "        vertical-align: middle;\n",
       "    }\n",
       "\n",
       "    .dataframe tbody tr th {\n",
       "        vertical-align: top;\n",
       "    }\n",
       "\n",
       "    .dataframe thead th {\n",
       "        text-align: right;\n",
       "    }\n",
       "</style>\n",
       "<table border=\"1\" class=\"dataframe\">\n",
       "  <thead>\n",
       "    <tr style=\"text-align: right;\">\n",
       "      <th></th>\n",
       "      <th>result</th>\n",
       "      <th>director</th>\n",
       "      <th>first_hero</th>\n",
       "      <th>second_hero</th>\n",
       "      <th>first_heroien</th>\n",
       "      <th>second_heroien</th>\n",
       "      <th>multi_starer</th>\n",
       "      <th>music</th>\n",
       "      <th>back_ground</th>\n",
       "      <th>cinematographer</th>\n",
       "      <th>editor</th>\n",
       "      <th>audio</th>\n",
       "      <th>songs</th>\n",
       "      <th>genre</th>\n",
       "      <th>production_no1</th>\n",
       "      <th>production_no2</th>\n",
       "      <th>production_no3</th>\n",
       "      <th>combined_production</th>\n",
       "      <th>distributed_by</th>\n",
       "      <th>month</th>\n",
       "      <th>run_time</th>\n",
       "      <th>art_director</th>\n",
       "      <th>fight_master_one</th>\n",
       "      <th>fight_master_two</th>\n",
       "      <th>fight_master_three</th>\n",
       "      <th>poster</th>\n",
       "      <th>budget</th>\n",
       "    </tr>\n",
       "  </thead>\n",
       "  <tbody>\n",
       "    <tr>\n",
       "      <th>0</th>\n",
       "      <td>average</td>\n",
       "      <td>level-16</td>\n",
       "      <td>no hero</td>\n",
       "      <td>level-13</td>\n",
       "      <td>no heroien</td>\n",
       "      <td>level-5</td>\n",
       "      <td>no</td>\n",
       "      <td>level-6</td>\n",
       "      <td>level-6</td>\n",
       "      <td>level-10</td>\n",
       "      <td>level-1</td>\n",
       "      <td>sony</td>\n",
       "      <td>less than6</td>\n",
       "      <td>w</td>\n",
       "      <td>level-7</td>\n",
       "      <td>no one</td>\n",
       "      <td>no one</td>\n",
       "      <td>no</td>\n",
       "      <td>top</td>\n",
       "      <td>august</td>\n",
       "      <td>130 and above</td>\n",
       "      <td>new</td>\n",
       "      <td>level-4</td>\n",
       "      <td>no one</td>\n",
       "      <td>no one</td>\n",
       "      <td>level-2</td>\n",
       "      <td>medium</td>\n",
       "    </tr>\n",
       "    <tr>\n",
       "      <th>1</th>\n",
       "      <td>flop</td>\n",
       "      <td>new</td>\n",
       "      <td>new</td>\n",
       "      <td>no hero</td>\n",
       "      <td>new</td>\n",
       "      <td>no heroien</td>\n",
       "      <td>no</td>\n",
       "      <td>level-8</td>\n",
       "      <td>level-8</td>\n",
       "      <td>new</td>\n",
       "      <td>level-2</td>\n",
       "      <td>madhura audio</td>\n",
       "      <td>less than6</td>\n",
       "      <td>l</td>\n",
       "      <td>level-2</td>\n",
       "      <td>level-13</td>\n",
       "      <td>level-8</td>\n",
       "      <td>yes</td>\n",
       "      <td>top</td>\n",
       "      <td>july</td>\n",
       "      <td>130 and above</td>\n",
       "      <td>level-9</td>\n",
       "      <td>level-5</td>\n",
       "      <td>no one</td>\n",
       "      <td>no one</td>\n",
       "      <td>level-1</td>\n",
       "      <td>low</td>\n",
       "    </tr>\n",
       "    <tr>\n",
       "      <th>2</th>\n",
       "      <td>super hit</td>\n",
       "      <td>level-8</td>\n",
       "      <td>level-8</td>\n",
       "      <td>no hero</td>\n",
       "      <td>level-2</td>\n",
       "      <td>no heroien</td>\n",
       "      <td>no</td>\n",
       "      <td>level-3</td>\n",
       "      <td>level-3</td>\n",
       "      <td>level-8</td>\n",
       "      <td>level-6</td>\n",
       "      <td>aditya music</td>\n",
       "      <td>exactly 6</td>\n",
       "      <td>v</td>\n",
       "      <td>level-9</td>\n",
       "      <td>level-2</td>\n",
       "      <td>level-13</td>\n",
       "      <td>yes</td>\n",
       "      <td>top</td>\n",
       "      <td>july</td>\n",
       "      <td>150 and above</td>\n",
       "      <td>level-3</td>\n",
       "      <td>no one</td>\n",
       "      <td>no one</td>\n",
       "      <td>level-4</td>\n",
       "      <td>level-1</td>\n",
       "      <td>medium</td>\n",
       "    </tr>\n",
       "    <tr>\n",
       "      <th>3</th>\n",
       "      <td>flop</td>\n",
       "      <td>seasonal</td>\n",
       "      <td>new</td>\n",
       "      <td>no hero</td>\n",
       "      <td>level-5</td>\n",
       "      <td>no heroien</td>\n",
       "      <td>no</td>\n",
       "      <td>level-11</td>\n",
       "      <td>level-11</td>\n",
       "      <td>new</td>\n",
       "      <td>level-8</td>\n",
       "      <td>lahari music</td>\n",
       "      <td>exactly 6</td>\n",
       "      <td>q</td>\n",
       "      <td>new</td>\n",
       "      <td>no one</td>\n",
       "      <td>no one</td>\n",
       "      <td>no</td>\n",
       "      <td>low</td>\n",
       "      <td>december</td>\n",
       "      <td>130 and above</td>\n",
       "      <td>new</td>\n",
       "      <td>new</td>\n",
       "      <td>no one</td>\n",
       "      <td>no one</td>\n",
       "      <td>new</td>\n",
       "      <td>low</td>\n",
       "    </tr>\n",
       "    <tr>\n",
       "      <th>4</th>\n",
       "      <td>flop</td>\n",
       "      <td>new</td>\n",
       "      <td>level-12</td>\n",
       "      <td>no hero</td>\n",
       "      <td>seasonal</td>\n",
       "      <td>no heroien</td>\n",
       "      <td>no</td>\n",
       "      <td>level-6</td>\n",
       "      <td>level-6</td>\n",
       "      <td>level-6</td>\n",
       "      <td>level-8</td>\n",
       "      <td>aditya music</td>\n",
       "      <td>less than6</td>\n",
       "      <td>l</td>\n",
       "      <td>new</td>\n",
       "      <td>new</td>\n",
       "      <td>no one</td>\n",
       "      <td>yes</td>\n",
       "      <td>low</td>\n",
       "      <td>july</td>\n",
       "      <td>120 and above</td>\n",
       "      <td>level-5</td>\n",
       "      <td>new</td>\n",
       "      <td>no one</td>\n",
       "      <td>no one</td>\n",
       "      <td>new</td>\n",
       "      <td>low</td>\n",
       "    </tr>\n",
       "  </tbody>\n",
       "</table>\n",
       "</div>"
      ],
      "text/plain": [
       "      result  director first_hero second_hero first_heroien second_heroien  \\\n",
       "0    average  level-16    no hero    level-13    no heroien        level-5   \n",
       "1       flop       new        new     no hero           new     no heroien   \n",
       "2  super hit   level-8    level-8     no hero       level-2     no heroien   \n",
       "3       flop  seasonal        new     no hero       level-5     no heroien   \n",
       "4       flop       new   level-12     no hero      seasonal     no heroien   \n",
       "\n",
       "  multi_starer     music back_ground cinematographer   editor          audio  \\\n",
       "0           no   level-6     level-6        level-10  level-1           sony   \n",
       "1           no   level-8     level-8             new  level-2  madhura audio   \n",
       "2           no   level-3     level-3         level-8  level-6   aditya music   \n",
       "3           no  level-11    level-11             new  level-8   lahari music   \n",
       "4           no   level-6     level-6         level-6  level-8   aditya music   \n",
       "\n",
       "        songs genre production_no1 production_no2 production_no3  \\\n",
       "0  less than6     w        level-7         no one         no one   \n",
       "1  less than6     l        level-2       level-13        level-8   \n",
       "2   exactly 6     v        level-9        level-2       level-13   \n",
       "3   exactly 6     q            new         no one         no one   \n",
       "4  less than6     l            new            new         no one   \n",
       "\n",
       "  combined_production distributed_by     month       run_time art_director  \\\n",
       "0                  no            top    august  130 and above          new   \n",
       "1                 yes            top      july  130 and above      level-9   \n",
       "2                 yes            top      july  150 and above      level-3   \n",
       "3                  no            low  december  130 and above          new   \n",
       "4                 yes            low      july  120 and above      level-5   \n",
       "\n",
       "  fight_master_one fight_master_two fight_master_three   poster  budget  \n",
       "0          level-4           no one             no one  level-2  medium  \n",
       "1          level-5           no one             no one  level-1     low  \n",
       "2           no one           no one            level-4  level-1  medium  \n",
       "3              new           no one             no one      new     low  \n",
       "4              new           no one             no one      new     low  "
      ]
     },
     "execution_count": 108,
     "metadata": {},
     "output_type": "execute_result"
    }
   ],
   "source": [
    "data2.head()"
   ]
  },
  {
   "cell_type": "code",
   "execution_count": 109,
   "metadata": {},
   "outputs": [],
   "source": [
    "from sklearn.model_selection import train_test_split\n",
    "from sklearn.linear_model import LogisticRegression\n",
    "from sklearn.ensemble import RandomForestClassifier,BaggingClassifier, GradientBoostingClassifier,AdaBoostClassifier\n",
    "from sklearn.tree import DecisionTreeClassifier\n",
    "from xgboost import XGBClassifier\n",
    "from sklearn.metrics import accuracy_score\n",
    "XtrainDum = pd.get_dummies(data2.drop('result',axis=1))\n",
    "ytrain = data2['result']\n",
    "xtrain,xtest,ytrain,ytest = train_test_split(XtrainDum,ytrain)"
   ]
  },
  {
   "cell_type": "code",
   "execution_count": 110,
   "metadata": {},
   "outputs": [
    {
     "name": "stdout",
     "output_type": "stream",
     "text": [
      "===========Building LogisticRegression!!===============\n",
      "1.0 0.6268656716417911\n",
      "===========Building RandomForestClassifier!!===============\n",
      "1.0 0.6865671641791045\n",
      "===========Building BaggingClassifier!!===============\n",
      "1.0 0.5970149253731343\n",
      "===========Building GradientBoostingClassifier!!===============\n",
      "1.0 0.5970149253731343\n",
      "===========Building AdaBoostClassifier!!===============\n",
      "0.6 0.6417910447761194\n",
      "===========Building DecisionTreeClassifier!!===============\n",
      "1.0 0.6417910447761194\n",
      "===========Building XGBClassifier!!===============\n",
      "1.0 0.5671641791044776\n"
     ]
    }
   ],
   "source": [
    "import warnings\n",
    "warnings.filterwarnings('ignore')\n",
    "def CheckModels(xtrain,ytrain,xtest,ytest):\n",
    "    \n",
    "    models = [LogisticRegression(),RandomForestClassifier(),BaggingClassifier(),GradientBoostingClassifier(),AdaBoostClassifier(),DecisionTreeClassifier(),\n",
    "             XGBClassifier()]\n",
    "    for model in models:\n",
    "        modelname = str(model).split('(')[0]\n",
    "        print(f\"===========Building {modelname}!!===============\")\n",
    "        model.fit(xtrain,ytrain)\n",
    "        testPreds=model.predict(xtest)\n",
    "        trainPreds = model.predict(xtrain)\n",
    "        print(accuracy_score(ytrain,trainPreds),accuracy_score(ytest,testPreds))\n",
    "        \n",
    "    \n",
    "CheckModels(xtrain,ytrain,xtest,ytest)  "
   ]
  },
  {
   "cell_type": "code",
   "execution_count": 111,
   "metadata": {},
   "outputs": [
    {
     "name": "stdout",
     "output_type": "stream",
     "text": [
      "1.0 0.6268656716417911\n"
     ]
    }
   ],
   "source": [
    "from sklearn.model_selection import GridSearchCV\n",
    "\n",
    "logreg = LogisticRegression()\n",
    "grid={\"C\":np.logspace(-3,3,7), \"penalty\":[\"l1\",\"l2\"]} \n",
    "logreg_cv=GridSearchCV(logreg,grid,cv=10)\n",
    "logreg_cv.fit(xtrain,ytrain)\n",
    "testPreds=logreg_cv.predict(xtest)\n",
    "trainPreds = logreg_cv.predict(xtrain)\n",
    "print(accuracy_score(ytrain,trainPreds),accuracy_score(ytest,testPreds))"
   ]
  },
  {
   "cell_type": "code",
   "execution_count": 112,
   "metadata": {},
   "outputs": [
    {
     "name": "stdout",
     "output_type": "stream",
     "text": [
      "0.765 0.6865671641791045\n"
     ]
    }
   ],
   "source": [
    "paramgrid = [ {'n_estimators': [200,500,1000],\n",
    "'learning_rate':[0.01,0.1,1]}\n",
    "]\n",
    "model = AdaBoostClassifier()\n",
    "ada_cv=GridSearchCV(model,paramgrid,cv=10)\n",
    "ada_cv.fit(xtrain,ytrain)\n",
    "testPreds=ada_cv.predict(xtest)\n",
    "trainPreds = ada_cv.predict(xtrain)\n",
    "print(accuracy_score(ytrain,trainPreds),accuracy_score(ytest,testPreds))"
   ]
  },
  {
   "cell_type": "code",
   "execution_count": 113,
   "metadata": {},
   "outputs": [
    {
     "name": "stdout",
     "output_type": "stream",
     "text": [
      "1.0 0.6268656716417911\n"
     ]
    }
   ],
   "source": [
    "from sklearn.multiclass import OneVsRestClassifier\n",
    "from sklearn.svm import SVC\n",
    "clf = OneVsRestClassifier(LogisticRegression()).fit(xtrain, ytrain)\n",
    "testPreds=clf.predict(xtest)\n",
    "trainPreds = clf.predict(xtrain)\n",
    "print(accuracy_score(ytrain,trainPreds),accuracy_score(ytest,testPreds))"
   ]
  }
 ],
 "metadata": {
  "kernelspec": {
   "display_name": "Python 3",
   "language": "python",
   "name": "python3"
  },
  "language_info": {
   "codemirror_mode": {
    "name": "ipython",
    "version": 3
   },
   "file_extension": ".py",
   "mimetype": "text/x-python",
   "name": "python",
   "nbconvert_exporter": "python",
   "pygments_lexer": "ipython3",
   "version": "3.7.6"
  }
 },
 "nbformat": 4,
 "nbformat_minor": 4
}
